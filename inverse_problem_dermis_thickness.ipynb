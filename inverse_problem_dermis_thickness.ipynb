{
 "cells": [
  {
   "cell_type": "code",
   "execution_count": 1,
   "metadata": {},
   "outputs": [],
   "source": [
    "from joblib import dump, load\n",
    "from sklearn.model_selection import train_test_split\n",
    "from sklearn.metrics import mean_absolute_percentage_error,mean_squared_error\n",
    "import pandas as pd\n",
    "import numpy as np\n",
    "import matplotlib.pyplot as plt\n",
    "import seaborn as sns\n",
    "import glob\n",
    "from tqdm import tqdm\n",
    "from sklearn.ensemble import RandomForestRegressor\n",
    "from sklearn.linear_model import LinearRegression\n",
    "from sklearn.tree import DecisionTreeRegressor\n",
    "from sklearn.model_selection import GridSearchCV\n",
    "from sklearn.metrics import r2_score"
   ]
  },
  {
   "cell_type": "code",
   "execution_count": 2,
   "metadata": {},
   "outputs": [],
   "source": [
    "import xgboost as xgb"
   ]
  },
  {
   "cell_type": "code",
   "execution_count": 3,
   "metadata": {},
   "outputs": [],
   "source": [
    "import sys\n",
    "sys.path.append('temp/temp/')\n",
    "import make_tissue as mt"
   ]
  },
  {
   "cell_type": "code",
   "execution_count": 4,
   "metadata": {},
   "outputs": [],
   "source": [
    "def mean_OD(spectra,wvs,wvl,window):\n",
    "    left_wvl = wvl-(window/2.)\n",
    "    right_wvl = wvl+(window/2.)\n",
    "    wvl_mask = (left_wvl<=wvs) & (wvs<=right_wvl)\n",
    "    return spectra[wvl_mask].mean()\n",
    "def mean_R(spectra,wvl,window):\n",
    "    left_wvl = wvl-(window/2.)\n",
    "    right_wvl = wvl+(window/2.)\n",
    "    wvl_mask = (left_wvl<=all_wvs) & (all_wvs<=right_wvl)\n",
    "    return spectra[wvl_mask].mean()\n",
    "def line(spectra,wvl_1,wvl_2):\n",
    "    y_1 = mean_OD(spectra,wvl_1,2.)\n",
    "    y_2 = mean_OD(spectra,wvl_2,2.) \n",
    "    a = (y_2 - y_1)/(wvl_2-wvl_1)\n",
    "    b = (y_1*wvl_2-y_2*wvl_1)/(wvl_2-wvl_1)\n",
    "    return a*wvs+b\n",
    "def line_correction(spectra,left_wvl,right_wvl):\n",
    "    return spectra - line(spectra,left_wvl,right_wvl)\n",
    "def norm(y):\n",
    "    return (y-y.min())/(y.max()-y.min())"
   ]
  },
  {
   "cell_type": "markdown",
   "metadata": {},
   "source": [
    "## Train test split"
   ]
  },
  {
   "cell_type": "code",
   "execution_count": 5,
   "metadata": {},
   "outputs": [],
   "source": [
    "csv_file='2_layered_model_mcml.csv'\n",
    "\n",
    "data = pd.read_csv(csv_file)\n",
    "\n",
    "distances = np.arange(0.0025,1.5,0.005).round(4)\n",
    "\n",
    "data.columns = np.append(distances,['mua1', 'mus1', 'd1','mua2', 'mus2','d2'])\n",
    "data.drop((np.arange( 0.3225,1.5,0.005).round(4).astype(str)), axis=1, inplace=True)\n",
    "data.drop('d2', axis=1, inplace=True)\n",
    "optical = ['mua1','mus1','d1','mua2','mus2']\n",
    "Rs = [r for r in data.columns if r not in optical]\n",
    "dr=0.005\n",
    "for col in Rs:\n",
    "    distance = float(col)\n",
    "    data[col] = 2*np.pi*distance*dr*data[col]        \n",
    "optical_prop = data[optical]\n",
    "data_R = data[Rs]\n",
    "X_train, X_test, ys_train, ys_test = train_test_split(data_R, optical_prop, test_size=0.10, random_state=42)"
   ]
  },
  {
   "cell_type": "code",
   "execution_count": 6,
   "metadata": {},
   "outputs": [],
   "source": [
    "X_train_part = X_train.copy()\n",
    "ys_train_part = ys_train.copy()\n",
    "\n",
    "X_test_part = X_test.copy()\n",
    "ys_test_part = ys_test.copy()"
   ]
  },
  {
   "cell_type": "code",
   "execution_count": 7,
   "metadata": {},
   "outputs": [
    {
     "name": "stderr",
     "output_type": "stream",
     "text": [
      "/opt/tljh/user/lib/python3.7/site-packages/ipykernel_launcher.py:1: SettingWithCopyWarning: \n",
      "A value is trying to be set on a copy of a slice from a DataFrame.\n",
      "Try using .loc[row_indexer,col_indexer] = value instead\n",
      "\n",
      "See the caveats in the documentation: https://pandas.pydata.org/pandas-docs/stable/user_guide/indexing.html#returning-a-view-versus-a-copy\n",
      "  \"\"\"Entry point for launching an IPython kernel.\n",
      "/opt/tljh/user/lib/python3.7/site-packages/ipykernel_launcher.py:2: SettingWithCopyWarning: \n",
      "A value is trying to be set on a copy of a slice from a DataFrame.\n",
      "Try using .loc[row_indexer,col_indexer] = value instead\n",
      "\n",
      "See the caveats in the documentation: https://pandas.pydata.org/pandas-docs/stable/user_guide/indexing.html#returning-a-view-versus-a-copy\n",
      "  \n"
     ]
    }
   ],
   "source": [
    "optical_prop['mua1/mua2']=optical_prop['mua1']/optical_prop['mua2']\n",
    "optical_prop['mus1/mus2']=optical_prop['mus1']/optical_prop['mus2']"
   ]
  },
  {
   "cell_type": "code",
   "execution_count": 8,
   "metadata": {
    "scrolled": true
   },
   "outputs": [],
   "source": [
    "phys_mask = (optical_prop['mua1/mua2']<1)&(optical_prop['mus1/mus2']<1)&(optical_prop['d1']<0.21)\n",
    "data_R_phys = data_R[phys_mask]\n",
    "optical_prop_phys = optical_prop[phys_mask]"
   ]
  },
  {
   "cell_type": "code",
   "execution_count": 9,
   "metadata": {},
   "outputs": [],
   "source": [
    "X_train_phys, X_test_phys, ys_train_phys, ys_test_phys = train_test_split(data_R_phys, optical_prop_phys, test_size=0.10, random_state=42)"
   ]
  },
  {
   "cell_type": "markdown",
   "metadata": {},
   "source": [
    "## XGboost"
   ]
  },
  {
   "cell_type": "code",
   "execution_count": 10,
   "metadata": {},
   "outputs": [],
   "source": [
    "data_dmatrix = xgb.DMatrix(data=X_train_phys,label=ys_train_phys['d1'])"
   ]
  },
  {
   "cell_type": "code",
   "execution_count": null,
   "metadata": {},
   "outputs": [],
   "source": [
    "params = {\"objective\":\"reg:squarederror\",'colsample_bytree': 0.3,'learning_rate': 0.005,\n",
    "                'max_depth': 5, 'alpha': 10,'n_jobs':-1}\n",
    "\n",
    "cv_results = xgb.cv(dtrain=data_dmatrix, params=params, nfold=3,\n",
    "                    num_boost_round=5000,early_stopping_rounds=2000,metrics=\"rmse\", as_pandas=True, seed=123)"
   ]
  },
  {
   "cell_type": "code",
   "execution_count": null,
   "metadata": {},
   "outputs": [],
   "source": [
    "plt.plot(cv_results['train-rmse-mean'])\n",
    "plt.xlabel('n estimators')\n",
    "plt.ylabel('RMSE train, $cm^{-1}$')"
   ]
  },
  {
   "cell_type": "code",
   "execution_count": null,
   "metadata": {},
   "outputs": [],
   "source": [
    "xg_reg = xgb.XGBRegressor(objective ='reg:squarederror', colsample_bytree = 0.3, learning_rate = 0.005,\n",
    "                max_depth = 5, alpha = 10, n_estimators = 5000)"
   ]
  },
  {
   "cell_type": "code",
   "execution_count": null,
   "metadata": {},
   "outputs": [],
   "source": [
    "xg_reg.fit(X_train_phys, ys_train_phys['d1'])"
   ]
  },
  {
   "cell_type": "code",
   "execution_count": null,
   "metadata": {},
   "outputs": [],
   "source": [
    "y_pred = xg_reg.predict(X_test_phys)"
   ]
  },
  {
   "cell_type": "code",
   "execution_count": null,
   "metadata": {},
   "outputs": [],
   "source": [
    "plt.plot(ys_test_phys['d1'],y_pred,'o')\n",
    "plt.plot([0.075,0.2],[0.075,0.2],'-',label='y=y')\n",
    "print('root_mse: ', np.sqrt(mean_squared_error(ys_test_phys['d1'],y_pred)))\n",
    "print('r2: ', r2_score(ys_test_phys['d1'], y_pred))\n",
    "plt.xlabel('$d_1$ test')\n",
    "plt.ylabel('$d_1$ predicted')\n",
    "plt.legend()"
   ]
  }
 ],
 "metadata": {
  "kernelspec": {
   "display_name": "Python 3",
   "language": "python",
   "name": "python3"
  },
  "language_info": {
   "codemirror_mode": {
    "name": "ipython",
    "version": 3
   },
   "file_extension": ".py",
   "mimetype": "text/x-python",
   "name": "python",
   "nbconvert_exporter": "python",
   "pygments_lexer": "ipython3",
   "version": "3.7.3"
  }
 },
 "nbformat": 4,
 "nbformat_minor": 4
}
