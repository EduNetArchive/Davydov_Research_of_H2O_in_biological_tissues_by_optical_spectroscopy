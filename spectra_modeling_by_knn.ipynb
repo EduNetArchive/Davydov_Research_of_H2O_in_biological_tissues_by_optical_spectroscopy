{
 "cells": [
  {
   "cell_type": "code",
   "execution_count": null,
   "metadata": {},
   "outputs": [],
   "source": [
    "from joblib import dump, load\n",
    "from sklearn.model_selection import train_test_split\n",
    "from sklearn.metrics import mean_absolute_percentage_error,mean_squared_error\n",
    "import pandas as pd\n",
    "import numpy as np\n",
    "import matplotlib.pyplot as plt\n",
    "import seaborn as sns\n",
    "import glob\n",
    "from tqdm import tqdm"
   ]
  },
  {
   "cell_type": "code",
   "execution_count": null,
   "metadata": {},
   "outputs": [],
   "source": [
    "import sys\n",
    "sys.path.append('temp/temp/')\n",
    "import make_tissue as mt"
   ]
  },
  {
   "cell_type": "code",
   "execution_count": null,
   "metadata": {},
   "outputs": [],
   "source": [
    "def mean_OD(spectra,wvs,wvl,window):\n",
    "    left_wvl = wvl-(window/2.)\n",
    "    right_wvl = wvl+(window/2.)\n",
    "    wvl_mask = (left_wvl<=wvs) & (wvs<=right_wvl)\n",
    "    return spectra[wvl_mask].mean()\n",
    "def mean_R(spectra,wvl,window):\n",
    "    left_wvl = wvl-(window/2.)\n",
    "    right_wvl = wvl+(window/2.)\n",
    "    wvl_mask = (left_wvl<=all_wvs) & (all_wvs<=right_wvl)\n",
    "    return spectra[wvl_mask].mean()\n",
    "def line(spectra,wvl_1,wvl_2):\n",
    "    y_1 = mean_OD(spectra,wvl_1,2.)\n",
    "    y_2 = mean_OD(spectra,wvl_2,2.) \n",
    "    a = (y_2 - y_1)/(wvl_2-wvl_1)\n",
    "    b = (y_1*wvl_2-y_2*wvl_1)/(wvl_2-wvl_1)\n",
    "    return a*wvs+b\n",
    "def line_correction(spectra,left_wvl,right_wvl):\n",
    "    return spectra - line(spectra,left_wvl,right_wvl)\n",
    "def norm(y):\n",
    "    return (y-y.min())/(y.max()-y.min())"
   ]
  },
  {
   "cell_type": "markdown",
   "metadata": {},
   "source": [
    "## Загрузка моделей"
   ]
  },
  {
   "cell_type": "code",
   "execution_count": null,
   "metadata": {},
   "outputs": [],
   "source": [
    "knn_paths = sorted(glob.glob('*.joblib'))"
   ]
  },
  {
   "cell_type": "code",
   "execution_count": null,
   "metadata": {},
   "outputs": [],
   "source": [
    "\n",
    "csv_file='2_layered_model_mcml.csv'\n",
    "\n",
    "data = pd.read_csv(csv_file)\n",
    "\n",
    "distances = np.arange(0.0025,1.5,0.005).round(4)\n",
    "\n",
    "data.columns = np.append(distances,['mua1', 'mus1', 'd1','mua2', 'mus2','d2'])\n",
    "data.drop((np.arange(0.9975,1.5,0.005).round(4).astype(str)), axis=1, inplace=True)\n",
    "data.drop('d2', axis=1, inplace=True)\n",
    "optical = ['mua1','mus1','d1','mua2','mus2']\n",
    "Rs = [r for r in data.columns if r not in optical]\n",
    "dr=0.005\n",
    "for col in Rs:\n",
    "    distance = float(col)\n",
    "    data[col] = 2*np.pi*distance*dr*data[col]\n",
    "\n",
    "mu_coefs = ['mua1','mus1','mua2','mus2']\n",
    "\n",
    "for coef in mu_coefs:\n",
    "    log_name = f'log_{coef}'\n",
    "    data[log_name]=np.log(data[coef])\n",
    "    data[log_name]=(data[log_name]-data[log_name].min())/(data[log_name].max()-data[log_name].min())\n"
   ]
  },
  {
   "cell_type": "code",
   "execution_count": null,
   "metadata": {},
   "outputs": [],
   "source": [
    "\n",
    "log_and_norm_optical = ['log_mua1', 'log_mus1',\n",
    "       'log_mua2', 'log_mus2','mua1','mus1','mua2','mus2','d1']\n"
   ]
  },
  {
   "cell_type": "code",
   "execution_count": null,
   "metadata": {},
   "outputs": [],
   "source": [
    "\n",
    "optical_prop = data[log_and_norm_optical]\n",
    "data_R = data[Rs]\n",
    "X_train, X_test, ys_train, ys_test = train_test_split(optical_prop, data_R, test_size=0.10, random_state=42)"
   ]
  },
  {
   "cell_type": "markdown",
   "metadata": {},
   "source": [
    "## Моделирование спектров"
   ]
  },
  {
   "cell_type": "code",
   "execution_count": null,
   "metadata": {},
   "outputs": [],
   "source": [
    "wvs = np.linspace(700,1100,200)"
   ]
  },
  {
   "cell_type": "code",
   "execution_count": null,
   "metadata": {},
   "outputs": [],
   "source": [
    "mt.make_tissue_list(800)"
   ]
  },
  {
   "cell_type": "code",
   "execution_count": null,
   "metadata": {},
   "outputs": [],
   "source": [
    "second_tissue = []\n",
    "mua2 = []\n",
    "mus2 = []\n",
    "for wv in wvs:\n",
    "    _mua,_mus,_ = mt._get_standard_tissue(wv,\n",
    "                                          B=0.004,S=0.5,W=0.2,M=0.,F=.8,\n",
    "                                      musp500=22,fray=0.,bmie=0.68,gg=0.9)\n",
    "    mua2.append(_mua)\n",
    "    mus2.append(_mus)\n",
    "second_tissue.append({'mua2':mua2,'mus2':mus2})"
   ]
  },
  {
   "cell_type": "code",
   "execution_count": null,
   "metadata": {},
   "outputs": [],
   "source": []
  },
  {
   "cell_type": "code",
   "execution_count": null,
   "metadata": {},
   "outputs": [],
   "source": [
    "plt.plot(wvs,second_tissue[0]['mua2'])"
   ]
  },
  {
   "cell_type": "code",
   "execution_count": null,
   "metadata": {},
   "outputs": [],
   "source": [
    "water_concs = np.linspace(0.50,0.95,10)"
   ]
  },
  {
   "cell_type": "code",
   "execution_count": null,
   "metadata": {},
   "outputs": [],
   "source": [
    "water_concs"
   ]
  },
  {
   "cell_type": "code",
   "execution_count": null,
   "metadata": {},
   "outputs": [],
   "source": [
    "first_tissue = []\n",
    "mua2 = []\n",
    "mus2 = []\n",
    "for wv in wvs:\n",
    "    _mua,_mus,_ = mt._get_standard_tissue(wv,\n",
    "                                          B=0.004,S=0.67,W=0.65,M=0.,F=0.00,musp500=48.0,fray=0.41,bmie=0.562,gg=0.9)\n",
    "    mua2.append(_mua)\n",
    "    mus2.append(_mus)\n",
    "first_tissue.append({'mua1':mua2,'mus1':mus2})"
   ]
  },
  {
   "cell_type": "code",
   "execution_count": null,
   "metadata": {},
   "outputs": [],
   "source": [
    "\n",
    "plt.plot(wvs,first_tissue[0]['mua1'],label='dermis')\n",
    "plt.plot(wvs,second_tissue[0]['mua2'],label='subcutaneous fat')\n",
    "plt.legend()\n",
    "plt.xlabel('Wavelength, nm')\n",
    "plt.ylabel('$\\mu_a$, $cm^{-1}$')"
   ]
  },
  {
   "cell_type": "code",
   "execution_count": null,
   "metadata": {},
   "outputs": [],
   "source": [
    "#for tissue in first_tissues[::10]:\n",
    "plt.plot(wvs,first_tissue[0]['mus1'],label='dermis')\n",
    "plt.plot(wvs,second_tissue[0]['mus2'],label='subcutaneous fat')\n",
    "#plt.axhline(100)\n",
    "plt.legend()\n",
    "plt.xlabel('Wavelength, nm')\n",
    "plt.ylabel('$\\mu_s$, $cm^{-1}$')"
   ]
  },
  {
   "cell_type": "code",
   "execution_count": null,
   "metadata": {},
   "outputs": [],
   "source": [
    "def norm_mu(mua,coef='mua1'):\n",
    "    mua = np.log(mua)\n",
    "    \n",
    "    return (mua-np.log(data[coef]).min())/(np.log(data[coef]).max()-np.log(data[coef]).min())"
   ]
  },
  {
   "cell_type": "code",
   "execution_count": null,
   "metadata": {},
   "outputs": [],
   "source": [
    "models_paths_dict = {}\n",
    "models_dict = {}\n",
    "for path in knn_paths:\n",
    "    d1 = path.split('_')[-1].split('joblib')[0]\n",
    "    models_paths_dict[d1]=[]\n",
    "    models_dict[d1]=[]"
   ]
  },
  {
   "cell_type": "code",
   "execution_count": null,
   "metadata": {},
   "outputs": [],
   "source": [
    "for key in models_paths_dict.keys():\n",
    "    for path in knn_paths:\n",
    "        if key in path:\n",
    "            models_paths_dict[key].append(path)"
   ]
  },
  {
   "cell_type": "code",
   "execution_count": null,
   "metadata": {},
   "outputs": [],
   "source": [
    "for key in models_paths_dict.keys():\n",
    "    for path in models_paths_dict[key]:\n",
    "        models_dict[key].append(load(path))"
   ]
  },
  {
   "cell_type": "code",
   "execution_count": null,
   "metadata": {},
   "outputs": [],
   "source": [
    "models_dict"
   ]
  },
  {
   "cell_type": "code",
   "execution_count": null,
   "metadata": {
    "scrolled": false
   },
   "outputs": [],
   "source": [
    "for d1 in sorted([0.075, 0.1, 0.125, 0.15, 0.175, 0.2, 0.225, 0.25, 0.275]):   \n",
    "    plt.figure()\n",
    "    wvs_mask= (wvs>700)\n",
    "    plt.title('dermis thickness = {} cm'.format(d1))\n",
    "    i=0\n",
    "    for model,d in zip(models_dict[str(d1)][::20],Rs[::20]): \n",
    "        spectra_layer =  np.array([norm_mu(first_tissue[0]['mua1'],'mua1'),\n",
    "                       norm_mu(first_tissue[0]['mus1'],'mus1'),\n",
    "                       norm_mu(second_tissue[0]['mua2'],'mua2'),\n",
    "                       norm_mu(second_tissue[0]['mus2'],'mus2')]).T\n",
    "        R_spectra=model.predict(spectra_layer)\n",
    "        y = -np.log(R_spectra.T)[wvs_mask]\n",
    "        x = wvs[wvs_mask]\n",
    "        plt.plot(x,y-mean_OD(y,x,850,5),'-',label=f'{d} cm')\n",
    "        i+=1\n",
    "    plt.xlabel('Wavelength, nm')\n",
    "    plt.ylabel('OD')\n",
    "    plt.legend(title='fiber distance',loc='center left', bbox_to_anchor=(1, 0.5))"
   ]
  },
  {
   "cell_type": "code",
   "execution_count": null,
   "metadata": {},
   "outputs": [],
   "source": [
    "ratio = {}\n",
    "lipids = {}\n",
    "water = {}\n",
    "for d1 in sorted([0.075, 0.1, 0.125, 0.15, 0.175, 0.2, 0.225, 0.25, 0.275]):   \n",
    "    wvs_mask= (wvs>700)\n",
    "    ratio[d1] = []\n",
    "    lipids[d1] = []\n",
    "    water[d1]=[]\n",
    "    i=0\n",
    "    for model,d in zip(models_dict[str(d1)+'.'][::],Rs[::]): \n",
    "        spectra_layer =  np.array([norm_mu(first_tissue[0]['mua1'],'mua1'),\n",
    "                       norm_mu(first_tissue[0]['mus1'],'mus1'),\n",
    "                       norm_mu(second_tissue[0]['mua2'],'mua2'),\n",
    "                       norm_mu(second_tissue[0]['mus2'],'mus2')]).T\n",
    "        R_spectra=model.predict(spectra_layer)\n",
    "        y = -np.log(R_spectra.T)[wvs_mask]\n",
    "        x = wvs[wvs_mask]\n",
    "        i+=1\n",
    "        ratio[d1].append((mean_OD(y,x,930,5)-mean_OD(y,x,850,5))/((mean_OD(y,x,970,5)-mean_OD(y,x,850,5))))\n",
    "        lipids[d1].append((mean_OD(y,x,930,5)-mean_OD(y,x,850,5)))\n",
    "        water[d1].append(((mean_OD(y,x,970,5)-mean_OD(y,x,850,5))))"
   ]
  },
  {
   "cell_type": "code",
   "execution_count": null,
   "metadata": {},
   "outputs": [],
   "source": [
    "r = np.array(Rs[::]).astype(float)"
   ]
  },
  {
   "cell_type": "code",
   "execution_count": null,
   "metadata": {},
   "outputs": [],
   "source": []
  },
  {
   "cell_type": "code",
   "execution_count": null,
   "metadata": {},
   "outputs": [],
   "source": [
    "ds = [0.075, 0.1, 0.125, 0.15, 0.175, 0.2, 0.225, 0.25, 0.275]\n",
    "min_ratio = []\n",
    "for i,d1 in enumerate(ds):\n",
    "    plt.plot(r,ratio[d1],'-',label=f'{d1}')\n",
    "    min_ratio.append(r[np.argmin(ratio[d1])])\n",
    "plt.xlabel('distance, cm')\n",
    "plt.ylabel('lipids/water, a.u.')\n",
    "plt.legend(title='dermis thickness, cm',loc='center left', bbox_to_anchor=(1, 0.5))"
   ]
  },
  {
   "cell_type": "code",
   "execution_count": null,
   "metadata": {},
   "outputs": [],
   "source": [
    "ds = [0.075, 0.1, 0.125, 0.15, 0.175, 0.2, 0.225, 0.25, 0.275]\n",
    "\n",
    "min_ratio = []\n",
    "for i,d1 in enumerate(ds):\n",
    "    plt.plot(r,lipids[d1],'-',label=f'{d1}')\n",
    "    min_ratio.append(r[np.argmin(ratio[d1])])\n",
    "plt.xlabel('distance, cm')\n",
    "plt.ylabel('lipids, a.u.')\n",
    "plt.legend(title='dermis thickness, cm',loc='center left', bbox_to_anchor=(1, 0.5))"
   ]
  },
  {
   "cell_type": "code",
   "execution_count": null,
   "metadata": {},
   "outputs": [],
   "source": [
    "ds = [0.075, 0.1, 0.125, 0.15, 0.175, 0.2, 0.225, 0.25, 0.275]\n",
    "min_ratio = []\n",
    "for i,d1 in enumerate(ds):\n",
    "    plt.plot(r,water[d1],'-',label=f'{d1}')\n",
    "    min_ratio.append(r[np.argmin(ratio[d1])])\n",
    "plt.xlabel('distance, cm')\n",
    "plt.ylabel('water, a.u.')\n",
    "plt.legend(title='dermis thickness, cm',loc='center left', bbox_to_anchor=(1, 0.5))"
   ]
  },
  {
   "cell_type": "code",
   "execution_count": null,
   "metadata": {},
   "outputs": [],
   "source": [
    "ds = [0.075, 0.1, 0.125, 0.15, 0.175, 0.2, 0.225, 0.25, 0.275]\n",
    "min_ratio = []\n",
    "for i,d1 in enumerate(ds):\n",
    "    plt.plot(r,ratio[d1],'-',label=f'{d1}')\n",
    "    plt.axvline(d1)\n",
    "\n",
    "    min_ratio.append(r[np.argmin(ratio[d1])])\n",
    "plt.xlabel('distance, cm')\n",
    "plt.ylabel('lipids/water, a.u.')\n",
    "plt.legend(title='dermis thickness, cm',loc='center left', bbox_to_anchor=(1, 0.5))"
   ]
  },
  {
   "cell_type": "code",
   "execution_count": null,
   "metadata": {},
   "outputs": [],
   "source": [
    "plt.plot(ds,min_ratio,'o')\n",
    "plt.xlabel('Dermis thickness, cm')\n",
    "plt.ylabel('Min ratio position, cm')"
   ]
  },
  {
   "cell_type": "code",
   "execution_count": null,
   "metadata": {},
   "outputs": [],
   "source": []
  }
 ],
 "metadata": {
  "kernelspec": {
   "display_name": "Python 3",
   "language": "python",
   "name": "python3"
  },
  "language_info": {
   "codemirror_mode": {
    "name": "ipython",
    "version": 3
   },
   "file_extension": ".py",
   "mimetype": "text/x-python",
   "name": "python",
   "nbconvert_exporter": "python",
   "pygments_lexer": "ipython3",
   "version": "3.7.3"
  }
 },
 "nbformat": 4,
 "nbformat_minor": 4
}
