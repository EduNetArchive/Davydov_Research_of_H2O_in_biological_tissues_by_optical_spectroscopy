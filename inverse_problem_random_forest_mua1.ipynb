{
 "cells": [
  {
   "cell_type": "code",
   "execution_count": 1,
   "metadata": {},
   "outputs": [],
   "source": [
    "from joblib import dump, load\n",
    "from sklearn.model_selection import train_test_split\n",
    "from sklearn.metrics import mean_absolute_percentage_error,mean_squared_error\n",
    "import pandas as pd\n",
    "import numpy as np\n",
    "import matplotlib.pyplot as plt\n",
    "import seaborn as sns\n",
    "import glob\n",
    "from tqdm import tqdm\n",
    "from sklearn.ensemble import RandomForestRegressor\n",
    "from sklearn.linear_model import LinearRegression\n",
    "from sklearn.model_selection import GridSearchCV"
   ]
  },
  {
   "cell_type": "code",
   "execution_count": 2,
   "metadata": {},
   "outputs": [],
   "source": [
    "import xgboost as xgb"
   ]
  },
  {
   "cell_type": "code",
   "execution_count": 3,
   "metadata": {},
   "outputs": [],
   "source": [
    "import sys\n",
    "sys.path.append('temp/temp/')\n",
    "import make_tissue as mt"
   ]
  },
  {
   "cell_type": "code",
   "execution_count": 4,
   "metadata": {},
   "outputs": [],
   "source": [
    "def mean_OD(spectra,wvs,wvl,window):\n",
    "    left_wvl = wvl-(window/2.)\n",
    "    right_wvl = wvl+(window/2.)\n",
    "    wvl_mask = (left_wvl<=wvs) & (wvs<=right_wvl)\n",
    "    return spectra[wvl_mask].mean()\n",
    "def mean_R(spectra,wvl,window):\n",
    "    left_wvl = wvl-(window/2.)\n",
    "    right_wvl = wvl+(window/2.)\n",
    "    wvl_mask = (left_wvl<=all_wvs) & (all_wvs<=right_wvl)\n",
    "    return spectra[wvl_mask].mean()\n",
    "def line(spectra,wvl_1,wvl_2):\n",
    "    y_1 = mean_OD(spectra,wvl_1,2.)\n",
    "    y_2 = mean_OD(spectra,wvl_2,2.) \n",
    "    a = (y_2 - y_1)/(wvl_2-wvl_1)\n",
    "    b = (y_1*wvl_2-y_2*wvl_1)/(wvl_2-wvl_1)\n",
    "    return a*wvs+b\n",
    "def line_correction(spectra,left_wvl,right_wvl):\n",
    "    return spectra - line(spectra,left_wvl,right_wvl)\n",
    "def norm(y):\n",
    "    return (y-y.min())/(y.max()-y.min())"
   ]
  },
  {
   "cell_type": "markdown",
   "metadata": {},
   "source": [
    "## Train test split"
   ]
  },
  {
   "cell_type": "code",
   "execution_count": 5,
   "metadata": {},
   "outputs": [
    {
     "name": "stdout",
     "output_type": "stream",
     "text": [
      "[0.25  0.275 0.15  0.125 0.175 0.225 0.1   0.2   0.075]\n"
     ]
    }
   ],
   "source": [
    "csv_file='2_layered_model_mcml.csv'\n",
    "\n",
    "data = pd.read_csv(csv_file)\n",
    "\n",
    "distances = np.arange(0.0025,1.5,0.005).round(4)\n",
    "\n",
    "data.columns = np.append(distances,['mua1', 'mus1', 'd1','mua2', 'mus2','d2'])\n",
    "data.drop((np.arange( 0.3225,1.5,0.005).round(4).astype(str)), axis=1, inplace=True)\n",
    "data.drop('d2', axis=1, inplace=True)\n",
    "optical = ['mua1','mus1','d1','mua2','mus2']\n",
    "Rs = [r for r in data.columns if r not in optical]\n",
    "dr=0.005\n",
    "for col in Rs:\n",
    "    distance = float(col)\n",
    "    data[col] = 2*np.pi*distance*dr*data[col]\n",
    "    \n",
    "optical_prop = data[optical]\n",
    "data_R = data[Rs]\n",
    "X_train, X_test, ys_train, ys_test = train_test_split(data_R, optical_prop, test_size=0.10, random_state=42)"
   ]
  },
  {
   "cell_type": "code",
   "execution_count": 7,
   "metadata": {},
   "outputs": [],
   "source": [
    "optical_prop_part = data[optical][data['d1']==0.125]\n",
    "data_R_part = data[Rs][data['d1']==0.125]\n",
    "X_train_part, X_test_part, ys_train_part, ys_test_part = train_test_split(data_R_part, optical_prop_part, test_size=0.10, random_state=42)"
   ]
  },
  {
   "cell_type": "markdown",
   "metadata": {},
   "source": [
    "## GridSearch Random Forest"
   ]
  },
  {
   "cell_type": "code",
   "execution_count": 12,
   "metadata": {},
   "outputs": [
    {
     "data": {
      "text/plain": [
       "RandomForestRegressor(n_estimators=500, random_state=42)"
      ]
     },
     "execution_count": 12,
     "metadata": {},
     "output_type": "execute_result"
    }
   ],
   "source": [
    "\n",
    "forest_reg = RandomForestRegressor(n_estimators=500,random_state=42)\n",
    "forest_reg.fit(X_train_part, ys_train_part['mua1'])"
   ]
  },
  {
   "cell_type": "code",
   "execution_count": 13,
   "metadata": {},
   "outputs": [
    {
     "name": "stdout",
     "output_type": "stream",
     "text": [
      "root_mse:  0.04406081416793031\n"
     ]
    },
    {
     "data": {
      "text/plain": [
       "Text(0, 0.5, 'y_pred')"
      ]
     },
     "execution_count": 13,
     "metadata": {},
     "output_type": "execute_result"
    },
    {
     "data": {
      "image/png": "[encoded data removed]",
      "text/plain": [
       "<Figure size 432x288 with 1 Axes>"
      ]
     },
     "metadata": {
      "needs_background": "light"
     },
     "output_type": "display_data"
    }
   ],
   "source": [
    "y_pred_part = forest_reg.predict(X_test_part)\n",
    "plt.plot(ys_test_part['mua1'],y_pred_part,'o')\n",
    "plt.plot([0,10],[0,10],label='y=y')\n",
    "print('root_mse: ', np.sqrt(mean_squared_error(ys_test_part['mua1'],y_pred_part)))\n",
    "plt.xlabel('y_test')\n",
    "plt.ylabel('y_pred')"
   ]
  },
  {
   "cell_type": "code",
   "execution_count": 14,
   "metadata": {
    "scrolled": true
   },
   "outputs": [
    {
     "name": "stdout",
     "output_type": "stream",
     "text": [
      "root_mse:  0.2945844492574433\n"
     ]
    },
    {
     "data": {
      "text/plain": [
       "Text(0, 0.5, 'y_pred')"
      ]
     },
     "execution_count": 14,
     "metadata": {},
     "output_type": "execute_result"
    },
    {
     "data": {
      "image/png": "[encoded data removed]",
      "text/plain": [
       "<Figure size 432x288 with 1 Axes>"
      ]
     },
     "metadata": {
      "needs_background": "light"
     },
     "output_type": "display_data"
    }
   ],
   "source": [
    "y_pred = forest_reg.predict(X_test)\n",
    "plt.plot(ys_test['mua1'],y_pred,'o')\n",
    "plt.plot([0,10],[0,10],label='y=y')\n",
    "print('root_mse: ', np.sqrt(mean_squared_error(ys_test['mua1'],y_pred)))\n",
    "plt.xlabel('y_test')\n",
    "plt.ylabel('y_pred')"
   ]
  },
  {
   "cell_type": "code",
   "execution_count": null,
   "metadata": {},
   "outputs": [],
   "source": []
  }
 ],
 "metadata": {
  "kernelspec": {
   "display_name": "Python 3",
   "language": "python",
   "name": "python3"
  },
  "language_info": {
   "codemirror_mode": {
    "name": "ipython",
    "version": 3
   },
   "file_extension": ".py",
   "mimetype": "text/x-python",
   "name": "python",
   "nbconvert_exporter": "python",
   "pygments_lexer": "ipython3",
   "version": "3.7.3"
  }
 },
 "nbformat": 4,
 "nbformat_minor": 4
}
